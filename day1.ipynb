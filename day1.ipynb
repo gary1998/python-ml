{
  "nbformat": 4,
  "nbformat_minor": 5,
  "metadata": {
    "kernelspec": {
      "display_name": "Python 3",
      "language": "python",
      "name": "python3"
    },
    "language_info": {
      "codemirror_mode": {
        "name": "ipython",
        "version": 3
      },
      "file_extension": ".py",
      "mimetype": "text/x-python",
      "name": "python",
      "nbconvert_exporter": "python",
      "pygments_lexer": "ipython3",
      "version": "3.8.2"
    },
    "colab": {
      "name": "day1.ipynb",
      "provenance": [],
      "include_colab_link": true
    }
  },
  "cells": [
    {
      "cell_type": "markdown",
      "metadata": {
        "id": "view-in-github",
        "colab_type": "text"
      },
      "source": [
        "<a href=\"https://colab.research.google.com/github/gary1998/python-ml/blob/main/day1.ipynb\" target=\"_parent\"><img src=\"https://colab.research.google.com/assets/colab-badge.svg\" alt=\"Open In Colab\"/></a>"
      ]
    },
    {
      "cell_type": "code",
      "metadata": {
        "id": "ab484c12-6735-4231-82fb-400bd507dc8f",
        "outputId": "2720ee97-2909-4ab6-bd5b-81ff6f5070f5"
      },
      "source": [
        "print(\"hello world\")"
      ],
      "id": "ab484c12-6735-4231-82fb-400bd507dc8f",
      "execution_count": null,
      "outputs": [
        {
          "output_type": "stream",
          "text": [
            "hello world\n"
          ],
          "name": "stdout"
        }
      ]
    },
    {
      "cell_type": "code",
      "metadata": {
        "id": "c5694785-c8a7-4850-bb86-b18f7a2f723a"
      },
      "source": [
        ""
      ],
      "id": "c5694785-c8a7-4850-bb86-b18f7a2f723a",
      "execution_count": null,
      "outputs": []
    }
  ]
}